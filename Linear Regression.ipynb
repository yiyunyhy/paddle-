{
 "cells": [
  {
   "cell_type": "markdown",
   "metadata": {},
   "source": [
    "线性回归"
   ]
  },
  {
   "cell_type": "code",
   "execution_count": 22,
   "metadata": {},
   "outputs": [],
   "source": [
    "#首先我们引入必要的库：\n",
    "from __future__ import print_function\n",
    "import paddle\n",
    "import paddle.fluid as fluid\n",
    "import numpy\n",
    "import math\n",
    "import sys\n",
    "import six.moves"
   ]
  },
  {
   "cell_type": "markdown",
   "metadata": {},
   "source": [
    "接下来我们定义了用于训练的数据提供器。提供器每次读入一个大小为BATCH_SIZE的数据批次。\n",
    "如果用户希望加一些随机性，它可以同时定义一个批次大小和一个缓存大小。\n",
    "这样的话，每次数据提供器会从缓存中随机读取批次大小那么多的数据。"
   ]
  },
  {
   "cell_type": "code",
   "execution_count": 23,
   "metadata": {},
   "outputs": [
    {
     "name": "stderr",
     "output_type": "stream",
     "text": [
      "\n",
      "\n"
     ]
    }
   ],
   "source": [
    "import paddle.dataset.uci_housing\n",
    "BATCH_SIZE = 20\n",
    "\n",
    "train_reader = paddle.batch(\n",
    "    paddle.reader.shuffle(\n",
    "        paddle.dataset.uci_housing.train(), buf_size=500),\n",
    "        batch_size=BATCH_SIZE)\n",
    "\n",
    "test_reader = paddle.batch(\n",
    "    paddle.reader.shuffle(\n",
    "        paddle.dataset.uci_housing.test(), buf_size=500),\n",
    "        batch_size=BATCH_SIZE)"
   ]
  },
  {
   "cell_type": "code",
   "execution_count": 11,
   "metadata": {},
   "outputs": [
    {
     "name": "stdout",
     "output_type": "stream",
     "text": [
      "(7084,)\n"
     ]
    }
   ],
   "source": [
    "BATCH_SIZE = 20\n",
    "#如果想直接从txt文件中读取数据的话，可以参考以下方式\n",
    "feature_names = [ 'CRIM', 'ZN', 'INDUS', 'CHAS', 'NOX', 'RM', 'AGE', 'DIS', 'RAD', 'TAX', 'PTRATIO', 'B', 'LSTAT', 'convert' ]\n",
    "feature_num = len(feature_names)\n",
    "\n",
    "data = numpy.fromfile('housing.txt', sep=' ') # 从文件中读取原始数据\n",
    "print(data.shape)\n",
    "data = data.reshape(data.shape[0] // feature_num, feature_num)\n",
    "\n",
    "maximums, minimums, avgs = data.max(axis=0), data.min(axis=0), data.sum(axis=0)/data.shape[0]\n",
    "\n",
    "for i in six.moves.range(feature_num-1): data[:, i] = (data[:, i] - avgs[i]) / (maximums[i] - minimums[i]) # six.moves可以兼容python2和python3\n",
    "\n",
    "ratio = 0.8 # 训练集和验证集的划分比例\n",
    "\n",
    "offset = int(data.shape[0]*ratio)\n",
    "\n",
    "train_data = data[:offset]\n",
    "\n",
    "test_data = data[offset:]\n",
    "\n",
    "train_reader = paddle.batch( paddle.reader.shuffle( train_data, buf_size=500), batch_size=BATCH_SIZE)\n",
    "\n",
    "test_reader = paddle.batch( paddle.reader.shuffle( test_data, buf_size=500), batch_size=BATCH_SIZE)"
   ]
  },
  {
   "cell_type": "code",
   "execution_count": 12,
   "metadata": {},
   "outputs": [
    {
     "name": "stdout",
     "output_type": "stream",
     "text": [
      "[[ 0.42616306 -0.11363636  0.25525005 ... -0.0686218   0.40637243\n",
      "   8.5       ]\n",
      " [ 0.72279828 -0.11363636  0.25525005 ...  0.07134996  0.28495962\n",
      "   5.        ]\n",
      " [ 0.19222996 -0.11363636  0.25525005 ...  0.03415696  0.2948934\n",
      "  11.9       ]\n",
      " ...\n",
      " [-0.03993221 -0.11363636  0.02907703 ...  0.10143217 -0.1935172\n",
      "  23.9       ]\n",
      " [-0.03938337 -0.11363636  0.02907703 ...  0.09273279 -0.17033839\n",
      "  22.        ]\n",
      " [-0.04008226 -0.11363636  0.02907703 ...  0.10143217 -0.13170704\n",
      "  11.9       ]]\n"
     ]
    }
   ],
   "source": [
    "print(test_data)"
   ]
  },
  {
   "cell_type": "markdown",
   "metadata": {},
   "source": [
    "配置训练程序\n",
    "\n",
    "训练程序的目的是定义一个训练模型的网络结构。对于线性回归来讲，它就是一个从输入到输出的简单的全连接层。更加复杂的结果，比如卷积神经网络，递归神经网络等会在随后的章节中介绍。训练程序必须返回平均损失作为第一个返回值，因为它会被后面反向传播算法所用到。"
   ]
  },
  {
   "cell_type": "code",
   "execution_count": 24,
   "metadata": {},
   "outputs": [],
   "source": [
    "x = fluid.layers.data(name='x', shape=[13], dtype='float32')# 定义输入的形状和数据类型\n",
    "y= fluid.layers.data(name='y', shape=[1], dtype='float32')# 定义输出的形状和数据类型\n",
    "y_predict = fluid.layers.fc(input=x, size=1, act=None)# # 连接输入和输出的全连接层\n",
    "\n",
    "# 获取默认/全局主函数\n",
    "main_program = fluid.default_main_program()\n",
    "# 获取默认/全局启动程序\n",
    "startup_program = fluid.default_startup_program()\n",
    "\n",
    "# 利用标签数据和输出的预测数据估计方差\n",
    "cost = fluid.layers.square_error_cost(input=y_predict, label=y)\n",
    "# 对方差求均值，得到平均损失\n",
    "avg_loss = fluid.layers.mean(cost)"
   ]
  },
  {
   "cell_type": "markdown",
   "metadata": {},
   "source": [
    "Optimizer Function 配置\n",
    "\n",
    "在下面的 SGD optimizer，learning_rate 是学习率，与网络的训练收敛速度有关系。"
   ]
  },
  {
   "cell_type": "code",
   "execution_count": 25,
   "metadata": {},
   "outputs": [],
   "source": [
    "sgd_optimizer = fluid.optimizer.SGD(learning_rate=0.001)\n",
    "sgd_optimizer.minimize(avg_loss)\n",
    "\n",
    "#克隆main_program得到test_program\n",
    "#有些operator在训练和测试之间的操作是不同的，例如batch_norm，使用参数for_test来区分该程序是用来训练还是用来测试\n",
    "#该api不会删除任何操作符,请在backward和optimization之前使用\n",
    "test_program = main_program.clone(for_test=True)"
   ]
  },
  {
   "cell_type": "markdown",
   "metadata": {},
   "source": [
    "定义运算场所\n",
    "\n",
    "我们可以定义运算是发生在CPU还是GPU"
   ]
  },
  {
   "cell_type": "code",
   "execution_count": 26,
   "metadata": {},
   "outputs": [],
   "source": [
    "use_cuda = False\n",
    "# 指明executor的执行场所\n",
    "place = fluid.CUDAPlace(0) if use_cuda else fluid.CPUPlace()\n",
    "\n",
    "###executor可以接受传入的program，并根据feed map(输入映射表)和fetch list(结果获取表)向program中添加数据输入算子和结果获取算子。使用close()关闭该executor，调用run(...)执行program。\n",
    "exe = fluid.Executor(place)"
   ]
  },
  {
   "cell_type": "markdown",
   "metadata": {},
   "source": [
    "创建训练过程\n",
    "\n",
    "训练需要有一个训练程序和一些必要参数，并构建了一个获取训练过程中测试误差的函数。必要参数有executor,program,reader,feeder,fetch_list，executor表示之前创建的执行器，program表示执行器所执行的program，是之前创建的program，如果该项参数没有给定的话则默认使用defalut_main_program，reader表示读取到的数据，feeder表示前向输入的变量，fetch_list表示用户想得到的变量或者命名的结果。"
   ]
  },
  {
   "cell_type": "code",
   "execution_count": 30,
   "metadata": {},
   "outputs": [],
   "source": [
    "num_epochs = 100\n",
    "\n",
    "def train_test(executor, program, reader, feeder, fetch_list):\n",
    "    accumulated = 1 * [0]\n",
    "    count = 0\n",
    "    for data_test in reader():\n",
    "        outs = executor.run(program=program,\n",
    "                            feed=feeder.feed(data_test),\n",
    "                            fetch_list=fetch_list)\n",
    "        accumulated = [x_c[0] + x_c[1][0] for x_c in zip(accumulated, outs)] # 累加测试过程中的损失值\n",
    "        count += 1 # 累加测试集中的样本数量\n",
    "    return [x_d / count for x_d in accumulated] # 计算平均损失\n",
    "        "
   ]
  },
  {
   "cell_type": "markdown",
   "metadata": {},
   "source": [
    "训练主循环\n",
    "\n",
    "给出需要存储的目录名，并初始化一个执行器。"
   ]
  },
  {
   "cell_type": "code",
   "execution_count": 31,
   "metadata": {},
   "outputs": [],
   "source": [
    "%matplotlib inline\n",
    "params_dirname = \"fit_a_line.inference.model\"\n",
    "feeder = fluid.DataFeeder(place=place, feed_list=[x, y])\n",
    "exe.run(startup_program)\n",
    "train_prompt = \"train cost\"\n",
    "test_prompt = \"test cost\"\n",
    "from paddle.utils.plot import Ploter\n",
    "plot_prompt = Ploter(train_prompt, test_prompt)\n",
    "step = 0\n",
    "\n",
    "exe_test = fluid.Executor(place)"
   ]
  },
  {
   "cell_type": "markdown",
   "metadata": {},
   "source": [
    "paddlepaddle提供了reader机制来读取训练数据。reader会一次提供多列数据，因此我们需要一个python的列表来定义读取顺序。我们构建一个循环来进行训练，直到训练结果足够好或者循环次数足够多。 如果训练迭代次数满足参数保存的迭代次数，可以把训练参数保存到params_dirname。 设置训练主循环"
   ]
  },
  {
   "cell_type": "code",
   "execution_count": 32,
   "metadata": {},
   "outputs": [
    {
     "data": {
      "image/png": "[encoded data removed]",
      "text/plain": [
       "<Figure size 432x288 with 1 Axes>"
      ]
     },
     "metadata": {},
     "output_type": "display_data"
    },
    {
     "name": "stdout",
     "output_type": "stream",
     "text": [
      "train cost, Step 2090, Cost 30.439896\n"
     ]
    },
    {
     "data": {
      "text/plain": [
       "<Figure size 432x288 with 0 Axes>"
      ]
     },
     "metadata": {},
     "output_type": "display_data"
    }
   ],
   "source": [
    "for pass_id in range(num_epochs):\n",
    "    for data_train in train_reader():\n",
    "        avg_loss_value, = exe.run(main_program,\n",
    "                                  feed=feeder.feed(data_train),\n",
    "                                  fetch_list=[avg_loss])\n",
    "        if step % 10 == 0: # 每10个批次记录并输出一下训练损失\n",
    "            plot_prompt.append(train_prompt, step, avg_loss_value[0])\n",
    "            plot_prompt.plot()\n",
    "            print(\"%s, Step %d, Cost %f\" %\n",
    "                      (train_prompt, step, avg_loss_value[0]))\n",
    "        if step % 100 == 0:  # 每100批次记录并输出一下测试损失\n",
    "            test_metics = train_test(executor=exe_test,\n",
    "                                     program=test_program,\n",
    "                                     reader=test_reader,\n",
    "                                     fetch_list=[avg_loss.name],\n",
    "                                     feeder=feeder)\n",
    "            plot_prompt.append(test_prompt, step, test_metics[0])\n",
    "            plot_prompt.plot()\n",
    "            print(\"%s, Step %d, Cost %f\" %\n",
    "                      (test_prompt, step, test_metics[0]))\n",
    "            if test_metics[0] < 10.0: # 如果准确率达到要求，则停止训练\n",
    "                break\n",
    "\n",
    "        step += 1\n",
    "\n",
    "        if math.isnan(float(avg_loss_value[0])):\n",
    "            sys.exit(\"got NaN loss, training failed.\")\n",
    "\n",
    "        #保存训练参数到之前给定的路径中\n",
    "        if params_dirname is not None:\n",
    "            fluid.io.save_inference_model(params_dirname, ['x'], [y_predict], exe)"
   ]
  },
  {
   "cell_type": "markdown",
   "metadata": {},
   "source": [
    "# 预测\n",
    "需要构建一个使用训练好的参数来进行预测的程序，训练好的参数位置在params_dirname。\n",
    "\n",
    "准备预测环境\n",
    "类似于训练过程，预测器需要一个预测程序来做预测。我们可以稍加修改我们的训练程序来把预测值包含进来。"
   ]
  },
  {
   "cell_type": "code",
   "execution_count": 33,
   "metadata": {},
   "outputs": [],
   "source": [
    "infer_exe = fluid.Executor(place)\n",
    "inference_scope = fluid.core.Scope()"
   ]
  },
  {
   "cell_type": "code",
   "execution_count": 34,
   "metadata": {},
   "outputs": [],
   "source": [
    "#保存图片\n",
    "def save_result(points1, points2):\n",
    "    import matplotlib\n",
    "    matplotlib.use('Agg')\n",
    "    import matplotlib.pyplot as plt\n",
    "    x1 = [idx for idx in range(len(points1))]\n",
    "    y1 = points1\n",
    "    y2 = points2\n",
    "    l1 = plt.plot(x1, y1, 'r--', label='predictions')\n",
    "    l2 = plt.plot(x1, y2, 'g--', label='GT')\n",
    "    plt.plot(x1, y1, 'ro-', x1, y2, 'g+-')\n",
    "    plt.title('predictions VS GT')\n",
    "    plt.legend()\n",
    "    plt.savefig('./image/prediction_gt.png')"
   ]
  },
  {
   "cell_type": "markdown",
   "metadata": {},
   "source": [
    "通过fluid.io.load_inference_model，预测器会从params_dirname中读取已经训练好的模型，来对从未遇见过的数据进行预测。"
   ]
  },
  {
   "cell_type": "code",
   "execution_count": 35,
   "metadata": {},
   "outputs": [
    {
     "name": "stderr",
     "output_type": "stream",
     "text": [
      "\n",
      "D:\\Anaconda3\\lib\\site-packages\\ipykernel_launcher.py:4: UserWarning: \n",
      "This call to matplotlib.use() has no effect because the backend has already\n",
      "been chosen; matplotlib.use() must be called *before* pylab, matplotlib.pyplot,\n",
      "or matplotlib.backends is imported for the first time.\n",
      "\n",
      "The backend was *originally* set to 'module://ipykernel.pylab.backend_inline' by the following code:\n",
      "  File \"D:\\Anaconda3\\lib\\runpy.py\", line 193, in _run_module_as_main\n",
      "    \"__main__\", mod_spec)\n",
      "  File \"D:\\Anaconda3\\lib\\runpy.py\", line 85, in _run_code\n",
      "    exec(code, run_globals)\n",
      "  File \"D:\\Anaconda3\\lib\\site-packages\\ipykernel_launcher.py\", line 16, in <module>\n",
      "    app.launch_new_instance()\n",
      "  File \"D:\\Anaconda3\\lib\\site-packages\\traitlets\\config\\application.py\", line 658, in launch_instance\n",
      "    app.start()\n",
      "  File \"D:\\Anaconda3\\lib\\site-packages\\ipykernel\\kernelapp.py\", line 505, in start\n",
      "    self.io_loop.start()\n",
      "  File \"D:\\Anaconda3\\lib\\site-packages\\tornado\\platform\\asyncio.py\", line 148, in start\n",
      "    self.asyncio_loop.run_forever()\n",
      "  File \"D:\\Anaconda3\\lib\\asyncio\\base_events.py\", line 539, in run_forever\n",
      "    self._run_once()\n",
      "  File \"D:\\Anaconda3\\lib\\asyncio\\base_events.py\", line 1775, in _run_once\n",
      "    handle._run()\n",
      "  File \"D:\\Anaconda3\\lib\\asyncio\\events.py\", line 88, in _run\n",
      "    self._context.run(self._callback, *self._args)\n",
      "  File \"D:\\Anaconda3\\lib\\site-packages\\tornado\\ioloop.py\", line 690, in <lambda>\n",
      "    lambda f: self._run_callback(functools.partial(callback, future))\n",
      "  File \"D:\\Anaconda3\\lib\\site-packages\\tornado\\ioloop.py\", line 743, in _run_callback\n",
      "    ret = callback()\n",
      "  File \"D:\\Anaconda3\\lib\\site-packages\\tornado\\gen.py\", line 781, in inner\n",
      "    self.run()\n",
      "  File \"D:\\Anaconda3\\lib\\site-packages\\tornado\\gen.py\", line 742, in run\n",
      "    yielded = self.gen.send(value)\n",
      "  File \"D:\\Anaconda3\\lib\\site-packages\\ipykernel\\kernelbase.py\", line 357, in process_one\n",
      "    yield gen.maybe_future(dispatch(*args))\n",
      "  File \"D:\\Anaconda3\\lib\\site-packages\\tornado\\gen.py\", line 209, in wrapper\n",
      "    yielded = next(result)\n",
      "  File \"D:\\Anaconda3\\lib\\site-packages\\ipykernel\\kernelbase.py\", line 267, in dispatch_shell\n",
      "    yield gen.maybe_future(handler(stream, idents, msg))\n",
      "  File \"D:\\Anaconda3\\lib\\site-packages\\tornado\\gen.py\", line 209, in wrapper\n",
      "    yielded = next(result)\n",
      "  File \"D:\\Anaconda3\\lib\\site-packages\\ipykernel\\kernelbase.py\", line 534, in execute_request\n",
      "    user_expressions, allow_stdin,\n",
      "  File \"D:\\Anaconda3\\lib\\site-packages\\tornado\\gen.py\", line 209, in wrapper\n",
      "    yielded = next(result)\n",
      "  File \"D:\\Anaconda3\\lib\\site-packages\\ipykernel\\ipkernel.py\", line 294, in do_execute\n",
      "    res = shell.run_cell(code, store_history=store_history, silent=silent)\n",
      "  File \"D:\\Anaconda3\\lib\\site-packages\\ipykernel\\zmqshell.py\", line 536, in run_cell\n",
      "    return super(ZMQInteractiveShell, self).run_cell(*args, **kwargs)\n",
      "  File \"D:\\Anaconda3\\lib\\site-packages\\IPython\\core\\interactiveshell.py\", line 2848, in run_cell\n",
      "    raw_cell, store_history, silent, shell_futures)\n",
      "  File \"D:\\Anaconda3\\lib\\site-packages\\IPython\\core\\interactiveshell.py\", line 2874, in _run_cell\n",
      "    return runner(coro)\n",
      "  File \"D:\\Anaconda3\\lib\\site-packages\\IPython\\core\\async_helpers.py\", line 67, in _pseudo_sync_runner\n",
      "    coro.send(None)\n",
      "  File \"D:\\Anaconda3\\lib\\site-packages\\IPython\\core\\interactiveshell.py\", line 3049, in run_cell_async\n",
      "    interactivity=interactivity, compiler=compiler, result=result)\n",
      "  File \"D:\\Anaconda3\\lib\\site-packages\\IPython\\core\\interactiveshell.py\", line 3214, in run_ast_nodes\n",
      "    if (yield from self.run_code(code, result)):\n",
      "  File \"D:\\Anaconda3\\lib\\site-packages\\IPython\\core\\interactiveshell.py\", line 3296, in run_code\n",
      "    exec(code_obj, self.user_global_ns, self.user_ns)\n",
      "  File \"<ipython-input-31-5b353ead3be1>\", line 1, in <module>\n",
      "    get_ipython().run_line_magic('matplotlib', 'inline')\n",
      "  File \"D:\\Anaconda3\\lib\\site-packages\\IPython\\core\\interactiveshell.py\", line 2307, in run_line_magic\n",
      "    result = fn(*args, **kwargs)\n",
      "  File \"<D:\\Anaconda3\\lib\\site-packages\\decorator.py:decorator-gen-109>\", line 2, in matplotlib\n",
      "  File \"D:\\Anaconda3\\lib\\site-packages\\IPython\\core\\magic.py\", line 187, in <lambda>\n",
      "    call = lambda f, *a, **k: f(*a, **k)\n",
      "  File \"D:\\Anaconda3\\lib\\site-packages\\IPython\\core\\magics\\pylab.py\", line 99, in matplotlib\n",
      "    gui, backend = self.shell.enable_matplotlib(args.gui)\n",
      "  File \"D:\\Anaconda3\\lib\\site-packages\\IPython\\core\\interactiveshell.py\", line 3384, in enable_matplotlib\n",
      "    pt.activate_matplotlib(backend)\n",
      "  File \"D:\\Anaconda3\\lib\\site-packages\\IPython\\core\\pylabtools.py\", line 314, in activate_matplotlib\n",
      "    matplotlib.pyplot.switch_backend(backend)\n",
      "  File \"D:\\Anaconda3\\lib\\site-packages\\matplotlib\\pyplot.py\", line 231, in switch_backend\n",
      "    matplotlib.use(newbackend, warn=False, force=True)\n",
      "  File \"D:\\Anaconda3\\lib\\site-packages\\matplotlib\\__init__.py\", line 1422, in use\n",
      "    reload(sys.modules['matplotlib.backends'])\n",
      "  File \"D:\\Anaconda3\\lib\\importlib\\__init__.py\", line 169, in reload\n",
      "    _bootstrap._exec(spec, module)\n",
      "  File \"D:\\Anaconda3\\lib\\site-packages\\matplotlib\\backends\\__init__.py\", line 16, in <module>\n",
      "    line for line in traceback.format_stack()\n",
      "\n",
      "\n",
      "  after removing the cwd from sys.path.\n"
     ]
    },
    {
     "name": "stdout",
     "output_type": "stream",
     "text": [
      "infer results: (House Price)\n",
      "0: 14.39\n",
      "1: 14.59\n",
      "2: 14.30\n",
      "3: 16.28\n",
      "4: 14.90\n",
      "5: 15.54\n",
      "6: 14.73\n",
      "7: 14.59\n",
      "8: 11.93\n",
      "9: 14.55\n",
      "\n",
      "ground truth:\n",
      "0: 8.50\n",
      "1: 5.00\n",
      "2: 11.90\n",
      "3: 27.90\n",
      "4: 17.20\n",
      "5: 27.50\n",
      "6: 15.00\n",
      "7: 17.20\n",
      "8: 17.90\n",
      "9: 16.30\n"
     ]
    },
    {
     "data": {
      "image/png": "[encoded data removed]",
      "text/plain": [
       "<Figure size 432x288 with 1 Axes>"
      ]
     },
     "metadata": {
      "needs_background": "light"
     },
     "output_type": "display_data"
    }
   ],
   "source": [
    "with fluid.scope_guard(inference_scope):\n",
    "    [inference_program, feed_target_names,\n",
    "     fetch_targets] = fluid.io.load_inference_model(params_dirname, infer_exe) # 载入预训练模型\n",
    "    batch_size = 10\n",
    "\n",
    "    infer_reader = paddle.batch(\n",
    "        paddle.dataset.uci_housing.test(), batch_size=batch_size) # 准备测试集\n",
    "\n",
    "    infer_data = next(infer_reader())\n",
    "    infer_feat = numpy.array(\n",
    "        [data[0] for data in infer_data]).astype(\"float32\") # 提取测试集中的数据\n",
    "    infer_label = numpy.array(\n",
    "        [data[1] for data in infer_data]).astype(\"float32\") # 提取测试集中的标签\n",
    "\n",
    "    assert feed_target_names[0] == 'x'\n",
    "    results = infer_exe.run(inference_program,\n",
    "                            feed={feed_target_names[0]: numpy.array(infer_feat)},\n",
    "                            fetch_list=fetch_targets) # 进行预测\n",
    "    #打印预测结果和标签并可视化结果\n",
    "    print(\"infer results: (House Price)\")\n",
    "    for idx, val in enumerate(results[0]):\n",
    "        print(\"%d: %.2f\" % (idx, val)) # 打印预测结果\n",
    "\n",
    "    print(\"\\nground truth:\")\n",
    "    for idx, val in enumerate(infer_label):\n",
    "        print(\"%d: %.2f\" % (idx, val)) # 打印标签值\n",
    "\n",
    "    save_result(results[0], infer_label) # 保存图片"
   ]
  },
  {
   "cell_type": "code",
   "execution_count": null,
   "metadata": {},
   "outputs": [],
   "source": []
  }
 ],
 "metadata": {
  "kernelspec": {
   "display_name": "Python 3",
   "language": "python",
   "name": "python3"
  },
  "language_info": {
   "codemirror_mode": {
    "name": "ipython",
    "version": 3
   },
   "file_extension": ".py",
   "mimetype": "text/x-python",
   "name": "python",
   "nbconvert_exporter": "python",
   "pygments_lexer": "ipython3",
   "version": "3.7.3"
  }
 },
 "nbformat": 4,
 "nbformat_minor": 2
}

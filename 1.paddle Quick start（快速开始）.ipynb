{
 "cells": [
  {
   "cell_type": "markdown",
   "metadata": {},
   "source": [
    "快速使用"
   ]
  },
  {
   "cell_type": "code",
   "execution_count": 1,
   "metadata": {},
   "outputs": [],
   "source": [
    "#首先，您需要导入fluid库\n",
    "import paddle.fluid as fluid"
   ]
  },
  {
   "cell_type": "markdown",
   "metadata": {},
   "source": [
    "1.使用Fluid创建5个元素的一维数组，其中每个元素都为1"
   ]
  },
  {
   "cell_type": "code",
   "execution_count": 2,
   "metadata": {},
   "outputs": [
    {
     "name": "stdout",
     "output_type": "stream",
     "text": [
      "[1 1 1 1 1]\n"
     ]
    }
   ],
   "source": [
    "# 定义数组维度及数据类型，可以修改shape参数定义任意大小的数组\n",
    "data = fluid.layers.ones(shape=[5], dtype='int64')\n",
    "# 在CPU上执行运算\n",
    "place = fluid.CPUPlace()\n",
    "# 创建执行器\n",
    "exe = fluid.Executor(place)\n",
    "# 执行计算\n",
    "ones_result = exe.run(fluid.default_main_program(),\n",
    "                    # 获取数据data\n",
    "                    fetch_list=[data],\n",
    "                    return_numpy=True)\n",
    "# 输出结果\n",
    "print(ones_result[0])"
   ]
  },
  {
   "cell_type": "markdown",
   "metadata": {},
   "source": [
    "2.使用Fluid将两个数组按位相加"
   ]
  },
  {
   "cell_type": "code",
   "execution_count": 4,
   "metadata": {},
   "outputs": [
    {
     "name": "stdout",
     "output_type": "stream",
     "text": [
      "[2 2 2 2 2]\n"
     ]
    }
   ],
   "source": [
    "# 调用 elementwise_op 将生成的一维数组按位相加\n",
    "add = fluid.layers.elementwise_add(data,data)\n",
    "# 定义运算场所\n",
    "place = fluid.CPUPlace()\n",
    "exe = fluid.Executor(place)\n",
    "# 执行计算\n",
    "add_result = exe.run(fluid.default_main_program(),\n",
    "                    fetch_list=[add],\n",
    "                    return_numpy=True)\n",
    "# 输出结果\n",
    "print (add_result[0])"
   ]
  },
  {
   "cell_type": "markdown",
   "metadata": {},
   "source": [
    "3.使用Fluid转换数据类型"
   ]
  },
  {
   "cell_type": "code",
   "execution_count": 5,
   "metadata": {},
   "outputs": [
    {
     "name": "stdout",
     "output_type": "stream",
     "text": [
      "[1. 1. 1. 1. 1.]\n"
     ]
    }
   ],
   "source": [
    "# 将一维整型数组，转换成float64类型\n",
    "cast = fluid.layers.cast(x=data, dtype='float64')\n",
    "# 定义运算场所执行计算\n",
    "place = fluid.CPUPlace()\n",
    "exe = fluid.Executor(place)\n",
    "cast_result = exe.run(fluid.default_main_program(),\n",
    "                 fetch_list=[cast],\n",
    "                 return_numpy=True)\n",
    "# 输出结果\n",
    "print(cast_result[0])"
   ]
  },
  {
   "cell_type": "markdown",
   "metadata": {},
   "source": [
    "运行线性回归模型\n",
    "\n",
    "通过上面的小例子，相信您已经对如何使用Fluid操作数据有了一定的了解，那么试着创建一个test.py，并粘贴下面的代码吧。\n",
    "\n",
    "这是一个简单的线性回归模型，来帮助我们快速求解4元一次方程。"
   ]
  },
  {
   "cell_type": "code",
   "execution_count": 10,
   "metadata": {},
   "outputs": [
    {
     "name": "stdout",
     "output_type": "stream",
     "text": [
      "[[4 0 3 3]\n",
      " [3 1 3 2]\n",
      " [4 0 0 4]\n",
      " [2 1 0 1]\n",
      " [1 0 1 4]\n",
      " [3 0 3 0]\n",
      " [2 3 0 1]\n",
      " [3 3 3 0]\n",
      " [1 1 1 0]\n",
      " [2 4 3 3]]\n",
      "[[43]]\n",
      "[[43], [43]]\n",
      "[[43], [43], [24]]\n",
      "[[43], [43], [24], [16]]\n",
      "[[43], [43], [24], [16], [19]]\n",
      "[[43], [43], [24], [16], [19], [33]]\n",
      "[[43], [43], [24], [16], [19], [33], [28]]\n",
      "[[43], [43], [24], [16], [19], [33], [28], [51]]\n",
      "[[43], [43], [24], [16], [19], [33], [28], [51], [17]]\n",
      "[[43], [43], [24], [16], [19], [33], [28], [51], [17], [59]]\n"
     ]
    }
   ],
   "source": [
    "#加载库\n",
    "import paddle.fluid as fluid\n",
    "import numpy as np\n",
    "#生成数据\n",
    "np.random.seed(0)#当我们设置相同的seed，每次生成的随机数相同。\n",
    "outputs = np.random.randint(5, size=(10, 4))\n",
    "print(outputs)\n",
    "\"\"\"\n",
    "函数的作用是，返回一个随机整型数，范围从低（包括）到高（不包括），即[low, high)。\n",
    "如果没有写参数high的值，则返回[0,low)的值。\n",
    "\"\"\"\n",
    "res = []\n",
    "for i in range(10):\n",
    "    # 假设方程式为 y=4a+6b+7c+2d\n",
    "    y = 4*outputs[i][0]+6*outputs[i][1]+7*outputs[i][2]+2*outputs[i][3]\n",
    "    res.append([y])\n",
    "    print(res)"
   ]
  },
  {
   "cell_type": "code",
   "execution_count": 11,
   "metadata": {},
   "outputs": [
    {
     "name": "stdout",
     "output_type": "stream",
     "text": [
      "[[4. 0. 3. 3.]\n",
      " [3. 1. 3. 2.]\n",
      " [4. 0. 0. 4.]\n",
      " [2. 1. 0. 1.]\n",
      " [1. 0. 1. 4.]\n",
      " [3. 0. 3. 0.]\n",
      " [2. 3. 0. 1.]\n",
      " [3. 3. 3. 0.]\n",
      " [1. 1. 1. 0.]\n",
      " [2. 4. 3. 3.]]\n",
      "[[43.]\n",
      " [43.]\n",
      " [24.]\n",
      " [16.]\n",
      " [19.]\n",
      " [33.]\n",
      " [28.]\n",
      " [51.]\n",
      " [17.]\n",
      " [59.]]\n"
     ]
    }
   ],
   "source": [
    "# 定义数据\n",
    "train_data = np.array(outputs).astype('float32')\n",
    "print(train_data)\n",
    "y_true = np.array(res).astype('float32')\n",
    "print(y_true)"
   ]
  },
  {
   "cell_type": "code",
   "execution_count": 14,
   "metadata": {},
   "outputs": [],
   "source": [
    "#定义网络\n",
    "x = fluid.layers.data(name='x', shape=[4], dtype='float32')\n",
    "y = fluid.layers.data(name='y', shape=[1], dtype='float32')\n",
    "y_predict = fluid.layers.fc(input=x, size=1, act=None)"
   ]
  },
  {
   "cell_type": "code",
   "execution_count": 15,
   "metadata": {},
   "outputs": [],
   "source": [
    "#定义损失函数\n",
    "cost = fluid.layers.square_error_cost(input=y_predict,label=y)\n",
    "avg_cost = fluid.layers.mean(cost)"
   ]
  },
  {
   "cell_type": "code",
   "execution_count": 16,
   "metadata": {},
   "outputs": [
    {
     "data": {
      "text/plain": [
       "([inputs {\n",
       "    parameter: \"Grad\"\n",
       "    arguments: \"fc_0.b_0@GRAD\"\n",
       "  }\n",
       "  inputs {\n",
       "    parameter: \"LearningRate\"\n",
       "    arguments: \"learning_rate_0\"\n",
       "  }\n",
       "  inputs {\n",
       "    parameter: \"Param\"\n",
       "    arguments: \"fc_0.b_0\"\n",
       "  }\n",
       "  outputs {\n",
       "    parameter: \"ParamOut\"\n",
       "    arguments: \"fc_0.b_0\"\n",
       "  }\n",
       "  type: \"sgd\"\n",
       "  attrs {\n",
       "    name: \"op_role\"\n",
       "    type: INT\n",
       "    i: 2\n",
       "  }\n",
       "  attrs {\n",
       "    name: \"op_role_var\"\n",
       "    type: STRINGS\n",
       "    strings: \"fc_0.b_0\"\n",
       "    strings: \"fc_0.b_0@GRAD\"\n",
       "  }\n",
       "  attrs {\n",
       "    name: \"op_namescope\"\n",
       "    type: STRING\n",
       "    s: \"/optimizer/\"\n",
       "  }\n",
       "  attrs {\n",
       "    name: \"op_callstack\"\n",
       "    type: STRINGS\n",
       "    strings: \"  File \\\"D:\\\\Anaconda3\\\\lib\\\\site-packages\\\\paddle\\\\fluid\\\\framework.py\\\", line 1654, in append_op\\n    attrs=kwargs.get(\\\"attrs\\\", None))\\n\"\n",
       "    strings: \"  File \\\"D:\\\\Anaconda3\\\\lib\\\\site-packages\\\\paddle\\\\fluid\\\\optimizer.py\\\", line 547, in _append_optimize_op\\n    stop_gradient=True)\\n\"\n",
       "    strings: \"  File \\\"D:\\\\Anaconda3\\\\lib\\\\site-packages\\\\paddle\\\\fluid\\\\optimizer.py\\\", line 296, in _create_optimization_pass\\n    param_and_grad)\\n\"\n",
       "    strings: \"  File \\\"D:\\\\Anaconda3\\\\lib\\\\site-packages\\\\paddle\\\\fluid\\\\optimizer.py\\\", line 441, in apply_gradients\\n    optimize_ops = self._create_optimization_pass(params_grads)\\n\"\n",
       "    strings: \"  File \\\"D:\\\\Anaconda3\\\\lib\\\\site-packages\\\\paddle\\\\fluid\\\\optimizer.py\\\", line 469, in apply_optimize\\n    optimize_ops = self.apply_gradients(params_grads)\\n\"\n",
       "    strings: \"  File \\\"D:\\\\Anaconda3\\\\lib\\\\site-packages\\\\paddle\\\\fluid\\\\optimizer.py\\\", line 500, in minimize\\n    loss, startup_program=startup_program, params_grads=params_grads)\\n\"\n",
       "    strings: \"  File \\\"<ipython-input-16-93352f790b14>\\\", line 3, in <module>\\n    sgd_optimizer.minimize(avg_cost)\\n\"\n",
       "    strings: \"  File \\\"D:\\\\Anaconda3\\\\lib\\\\site-packages\\\\IPython\\\\core\\\\interactiveshell.py\\\", line 3296, in run_code\\n    exec(code_obj, self.user_global_ns, self.user_ns)\\n\"\n",
       "    strings: \"  File \\\"D:\\\\Anaconda3\\\\lib\\\\site-packages\\\\IPython\\\\core\\\\interactiveshell.py\\\", line 3220, in run_ast_nodes\\n    if (yield from self.run_code(code, result)):\\n\"\n",
       "    strings: \"  File \\\"D:\\\\Anaconda3\\\\lib\\\\site-packages\\\\IPython\\\\core\\\\interactiveshell.py\\\", line 3049, in run_cell_async\\n    interactivity=interactivity, compiler=compiler, result=result)\\n\"\n",
       "    strings: \"  File \\\"D:\\\\Anaconda3\\\\lib\\\\site-packages\\\\IPython\\\\core\\\\async_helpers.py\\\", line 67, in _pseudo_sync_runner\\n    coro.send(None)\\n\"\n",
       "    strings: \"  File \\\"D:\\\\Anaconda3\\\\lib\\\\site-packages\\\\IPython\\\\core\\\\interactiveshell.py\\\", line 2874, in _run_cell\\n    return runner(coro)\\n\"\n",
       "    strings: \"  File \\\"D:\\\\Anaconda3\\\\lib\\\\site-packages\\\\IPython\\\\core\\\\interactiveshell.py\\\", line 2848, in run_cell\\n    raw_cell, store_history, silent, shell_futures)\\n\"\n",
       "    strings: \"  File \\\"D:\\\\Anaconda3\\\\lib\\\\site-packages\\\\ipykernel\\\\zmqshell.py\\\", line 536, in run_cell\\n    return super(ZMQInteractiveShell, self).run_cell(*args, **kwargs)\\n\"\n",
       "    strings: \"  File \\\"D:\\\\Anaconda3\\\\lib\\\\site-packages\\\\ipykernel\\\\ipkernel.py\\\", line 294, in do_execute\\n    res = shell.run_cell(code, store_history=store_history, silent=silent)\\n\"\n",
       "    strings: \"  File \\\"D:\\\\Anaconda3\\\\lib\\\\site-packages\\\\tornado\\\\gen.py\\\", line 209, in wrapper\\n    yielded = next(result)\\n\"\n",
       "    strings: \"  File \\\"D:\\\\Anaconda3\\\\lib\\\\site-packages\\\\ipykernel\\\\kernelbase.py\\\", line 534, in execute_request\\n    user_expressions, allow_stdin,\\n\"\n",
       "    strings: \"  File \\\"D:\\\\Anaconda3\\\\lib\\\\site-packages\\\\tornado\\\\gen.py\\\", line 209, in wrapper\\n    yielded = next(result)\\n\"\n",
       "    strings: \"  File \\\"D:\\\\Anaconda3\\\\lib\\\\site-packages\\\\ipykernel\\\\kernelbase.py\\\", line 267, in dispatch_shell\\n    yield gen.maybe_future(handler(stream, idents, msg))\\n\"\n",
       "    strings: \"  File \\\"D:\\\\Anaconda3\\\\lib\\\\site-packages\\\\tornado\\\\gen.py\\\", line 209, in wrapper\\n    yielded = next(result)\\n\"\n",
       "    strings: \"  File \\\"D:\\\\Anaconda3\\\\lib\\\\site-packages\\\\ipykernel\\\\kernelbase.py\\\", line 357, in process_one\\n    yield gen.maybe_future(dispatch(*args))\\n\"\n",
       "    strings: \"  File \\\"D:\\\\Anaconda3\\\\lib\\\\site-packages\\\\tornado\\\\gen.py\\\", line 742, in run\\n    yielded = self.gen.send(value)\\n\"\n",
       "    strings: \"  File \\\"D:\\\\Anaconda3\\\\lib\\\\site-packages\\\\tornado\\\\gen.py\\\", line 781, in inner\\n    self.run()\\n\"\n",
       "    strings: \"  File \\\"D:\\\\Anaconda3\\\\lib\\\\site-packages\\\\tornado\\\\ioloop.py\\\", line 743, in _run_callback\\n    ret = callback()\\n\"\n",
       "    strings: \"  File \\\"D:\\\\Anaconda3\\\\lib\\\\site-packages\\\\tornado\\\\ioloop.py\\\", line 690, in <lambda>\\n    lambda f: self._run_callback(functools.partial(callback, future))\\n\"\n",
       "    strings: \"  File \\\"D:\\\\Anaconda3\\\\lib\\\\asyncio\\\\events.py\\\", line 88, in _run\\n    self._context.run(self._callback, *self._args)\\n\"\n",
       "    strings: \"  File \\\"D:\\\\Anaconda3\\\\lib\\\\asyncio\\\\base_events.py\\\", line 1775, in _run_once\\n    handle._run()\\n\"\n",
       "    strings: \"  File \\\"D:\\\\Anaconda3\\\\lib\\\\asyncio\\\\base_events.py\\\", line 539, in run_forever\\n    self._run_once()\\n\"\n",
       "    strings: \"  File \\\"D:\\\\Anaconda3\\\\lib\\\\site-packages\\\\tornado\\\\platform\\\\asyncio.py\\\", line 148, in start\\n    self.asyncio_loop.run_forever()\\n\"\n",
       "    strings: \"  File \\\"D:\\\\Anaconda3\\\\lib\\\\site-packages\\\\ipykernel\\\\kernelapp.py\\\", line 505, in start\\n    self.io_loop.start()\\n\"\n",
       "    strings: \"  File \\\"D:\\\\Anaconda3\\\\lib\\\\site-packages\\\\traitlets\\\\config\\\\application.py\\\", line 658, in launch_instance\\n    app.start()\\n\"\n",
       "    strings: \"  File \\\"D:\\\\Anaconda3\\\\lib\\\\site-packages\\\\ipykernel_launcher.py\\\", line 16, in <module>\\n    app.launch_new_instance()\\n\"\n",
       "    strings: \"  File \\\"D:\\\\Anaconda3\\\\lib\\\\runpy.py\\\", line 85, in _run_code\\n    exec(code, run_globals)\\n\"\n",
       "    strings: \"  File \\\"D:\\\\Anaconda3\\\\lib\\\\runpy.py\\\", line 193, in _run_module_as_main\\n    \\\"__main__\\\", mod_spec)\\n\"\n",
       "  }, inputs {\n",
       "    parameter: \"Grad\"\n",
       "    arguments: \"fc_0.w_0@GRAD\"\n",
       "  }\n",
       "  inputs {\n",
       "    parameter: \"LearningRate\"\n",
       "    arguments: \"learning_rate_0\"\n",
       "  }\n",
       "  inputs {\n",
       "    parameter: \"Param\"\n",
       "    arguments: \"fc_0.w_0\"\n",
       "  }\n",
       "  outputs {\n",
       "    parameter: \"ParamOut\"\n",
       "    arguments: \"fc_0.w_0\"\n",
       "  }\n",
       "  type: \"sgd\"\n",
       "  attrs {\n",
       "    name: \"op_role\"\n",
       "    type: INT\n",
       "    i: 2\n",
       "  }\n",
       "  attrs {\n",
       "    name: \"op_role_var\"\n",
       "    type: STRINGS\n",
       "    strings: \"fc_0.w_0\"\n",
       "    strings: \"fc_0.w_0@GRAD\"\n",
       "  }\n",
       "  attrs {\n",
       "    name: \"op_namescope\"\n",
       "    type: STRING\n",
       "    s: \"/optimizer_1/\"\n",
       "  }\n",
       "  attrs {\n",
       "    name: \"op_callstack\"\n",
       "    type: STRINGS\n",
       "    strings: \"  File \\\"D:\\\\Anaconda3\\\\lib\\\\site-packages\\\\paddle\\\\fluid\\\\framework.py\\\", line 1654, in append_op\\n    attrs=kwargs.get(\\\"attrs\\\", None))\\n\"\n",
       "    strings: \"  File \\\"D:\\\\Anaconda3\\\\lib\\\\site-packages\\\\paddle\\\\fluid\\\\optimizer.py\\\", line 547, in _append_optimize_op\\n    stop_gradient=True)\\n\"\n",
       "    strings: \"  File \\\"D:\\\\Anaconda3\\\\lib\\\\site-packages\\\\paddle\\\\fluid\\\\optimizer.py\\\", line 296, in _create_optimization_pass\\n    param_and_grad)\\n\"\n",
       "    strings: \"  File \\\"D:\\\\Anaconda3\\\\lib\\\\site-packages\\\\paddle\\\\fluid\\\\optimizer.py\\\", line 441, in apply_gradients\\n    optimize_ops = self._create_optimization_pass(params_grads)\\n\"\n",
       "    strings: \"  File \\\"D:\\\\Anaconda3\\\\lib\\\\site-packages\\\\paddle\\\\fluid\\\\optimizer.py\\\", line 469, in apply_optimize\\n    optimize_ops = self.apply_gradients(params_grads)\\n\"\n",
       "    strings: \"  File \\\"D:\\\\Anaconda3\\\\lib\\\\site-packages\\\\paddle\\\\fluid\\\\optimizer.py\\\", line 500, in minimize\\n    loss, startup_program=startup_program, params_grads=params_grads)\\n\"\n",
       "    strings: \"  File \\\"<ipython-input-16-93352f790b14>\\\", line 3, in <module>\\n    sgd_optimizer.minimize(avg_cost)\\n\"\n",
       "    strings: \"  File \\\"D:\\\\Anaconda3\\\\lib\\\\site-packages\\\\IPython\\\\core\\\\interactiveshell.py\\\", line 3296, in run_code\\n    exec(code_obj, self.user_global_ns, self.user_ns)\\n\"\n",
       "    strings: \"  File \\\"D:\\\\Anaconda3\\\\lib\\\\site-packages\\\\IPython\\\\core\\\\interactiveshell.py\\\", line 3220, in run_ast_nodes\\n    if (yield from self.run_code(code, result)):\\n\"\n",
       "    strings: \"  File \\\"D:\\\\Anaconda3\\\\lib\\\\site-packages\\\\IPython\\\\core\\\\interactiveshell.py\\\", line 3049, in run_cell_async\\n    interactivity=interactivity, compiler=compiler, result=result)\\n\"\n",
       "    strings: \"  File \\\"D:\\\\Anaconda3\\\\lib\\\\site-packages\\\\IPython\\\\core\\\\async_helpers.py\\\", line 67, in _pseudo_sync_runner\\n    coro.send(None)\\n\"\n",
       "    strings: \"  File \\\"D:\\\\Anaconda3\\\\lib\\\\site-packages\\\\IPython\\\\core\\\\interactiveshell.py\\\", line 2874, in _run_cell\\n    return runner(coro)\\n\"\n",
       "    strings: \"  File \\\"D:\\\\Anaconda3\\\\lib\\\\site-packages\\\\IPython\\\\core\\\\interactiveshell.py\\\", line 2848, in run_cell\\n    raw_cell, store_history, silent, shell_futures)\\n\"\n",
       "    strings: \"  File \\\"D:\\\\Anaconda3\\\\lib\\\\site-packages\\\\ipykernel\\\\zmqshell.py\\\", line 536, in run_cell\\n    return super(ZMQInteractiveShell, self).run_cell(*args, **kwargs)\\n\"\n",
       "    strings: \"  File \\\"D:\\\\Anaconda3\\\\lib\\\\site-packages\\\\ipykernel\\\\ipkernel.py\\\", line 294, in do_execute\\n    res = shell.run_cell(code, store_history=store_history, silent=silent)\\n\"\n",
       "    strings: \"  File \\\"D:\\\\Anaconda3\\\\lib\\\\site-packages\\\\tornado\\\\gen.py\\\", line 209, in wrapper\\n    yielded = next(result)\\n\"\n",
       "    strings: \"  File \\\"D:\\\\Anaconda3\\\\lib\\\\site-packages\\\\ipykernel\\\\kernelbase.py\\\", line 534, in execute_request\\n    user_expressions, allow_stdin,\\n\"\n",
       "    strings: \"  File \\\"D:\\\\Anaconda3\\\\lib\\\\site-packages\\\\tornado\\\\gen.py\\\", line 209, in wrapper\\n    yielded = next(result)\\n\"\n",
       "    strings: \"  File \\\"D:\\\\Anaconda3\\\\lib\\\\site-packages\\\\ipykernel\\\\kernelbase.py\\\", line 267, in dispatch_shell\\n    yield gen.maybe_future(handler(stream, idents, msg))\\n\"\n",
       "    strings: \"  File \\\"D:\\\\Anaconda3\\\\lib\\\\site-packages\\\\tornado\\\\gen.py\\\", line 209, in wrapper\\n    yielded = next(result)\\n\"\n",
       "    strings: \"  File \\\"D:\\\\Anaconda3\\\\lib\\\\site-packages\\\\ipykernel\\\\kernelbase.py\\\", line 357, in process_one\\n    yield gen.maybe_future(dispatch(*args))\\n\"\n",
       "    strings: \"  File \\\"D:\\\\Anaconda3\\\\lib\\\\site-packages\\\\tornado\\\\gen.py\\\", line 742, in run\\n    yielded = self.gen.send(value)\\n\"\n",
       "    strings: \"  File \\\"D:\\\\Anaconda3\\\\lib\\\\site-packages\\\\tornado\\\\gen.py\\\", line 781, in inner\\n    self.run()\\n\"\n",
       "    strings: \"  File \\\"D:\\\\Anaconda3\\\\lib\\\\site-packages\\\\tornado\\\\ioloop.py\\\", line 743, in _run_callback\\n    ret = callback()\\n\"\n",
       "    strings: \"  File \\\"D:\\\\Anaconda3\\\\lib\\\\site-packages\\\\tornado\\\\ioloop.py\\\", line 690, in <lambda>\\n    lambda f: self._run_callback(functools.partial(callback, future))\\n\"\n",
       "    strings: \"  File \\\"D:\\\\Anaconda3\\\\lib\\\\asyncio\\\\events.py\\\", line 88, in _run\\n    self._context.run(self._callback, *self._args)\\n\"\n",
       "    strings: \"  File \\\"D:\\\\Anaconda3\\\\lib\\\\asyncio\\\\base_events.py\\\", line 1775, in _run_once\\n    handle._run()\\n\"\n",
       "    strings: \"  File \\\"D:\\\\Anaconda3\\\\lib\\\\asyncio\\\\base_events.py\\\", line 539, in run_forever\\n    self._run_once()\\n\"\n",
       "    strings: \"  File \\\"D:\\\\Anaconda3\\\\lib\\\\site-packages\\\\tornado\\\\platform\\\\asyncio.py\\\", line 148, in start\\n    self.asyncio_loop.run_forever()\\n\"\n",
       "    strings: \"  File \\\"D:\\\\Anaconda3\\\\lib\\\\site-packages\\\\ipykernel\\\\kernelapp.py\\\", line 505, in start\\n    self.io_loop.start()\\n\"\n",
       "    strings: \"  File \\\"D:\\\\Anaconda3\\\\lib\\\\site-packages\\\\traitlets\\\\config\\\\application.py\\\", line 658, in launch_instance\\n    app.start()\\n\"\n",
       "    strings: \"  File \\\"D:\\\\Anaconda3\\\\lib\\\\site-packages\\\\ipykernel_launcher.py\\\", line 16, in <module>\\n    app.launch_new_instance()\\n\"\n",
       "    strings: \"  File \\\"D:\\\\Anaconda3\\\\lib\\\\runpy.py\\\", line 85, in _run_code\\n    exec(code, run_globals)\\n\"\n",
       "    strings: \"  File \\\"D:\\\\Anaconda3\\\\lib\\\\runpy.py\\\", line 193, in _run_module_as_main\\n    \\\"__main__\\\", mod_spec)\\n\"\n",
       "  }], [(name: \"fc_0.w_0\"\n",
       "   type {\n",
       "     type: LOD_TENSOR\n",
       "     lod_tensor {\n",
       "       tensor {\n",
       "         data_type: FP32\n",
       "         dims: 4\n",
       "         dims: 1\n",
       "       }\n",
       "     }\n",
       "   }\n",
       "   persistable: true, name: \"fc_0.w_0@GRAD\"\n",
       "   type {\n",
       "     type: LOD_TENSOR\n",
       "     lod_tensor {\n",
       "       tensor {\n",
       "         data_type: FP32\n",
       "         dims: 4\n",
       "         dims: 1\n",
       "       }\n",
       "     }\n",
       "   }), (name: \"fc_0.b_0\"\n",
       "   type {\n",
       "     type: LOD_TENSOR\n",
       "     lod_tensor {\n",
       "       tensor {\n",
       "         data_type: FP32\n",
       "         dims: 1\n",
       "       }\n",
       "     }\n",
       "   }\n",
       "   persistable: true, name: \"fc_0.b_0@GRAD\"\n",
       "   type {\n",
       "     type: LOD_TENSOR\n",
       "     lod_tensor {\n",
       "       tensor {\n",
       "         data_type: FP32\n",
       "         dims: 1\n",
       "       }\n",
       "       lod_level: 0\n",
       "     }\n",
       "   })])"
      ]
     },
     "execution_count": 16,
     "metadata": {},
     "output_type": "execute_result"
    }
   ],
   "source": [
    "#定义优化方法\n",
    "sgd_optimizer = fluid.optimizer.SGD(learning_rate=0.05)\n",
    "sgd_optimizer.minimize(avg_cost)"
   ]
  },
  {
   "cell_type": "code",
   "execution_count": 22,
   "metadata": {},
   "outputs": [
    {
     "name": "stdout",
     "output_type": "stream",
     "text": [
      "[array([[ 1.4025782 ],\n",
      "       [ 0.6977779 ],\n",
      "       [ 1.7664022 ],\n",
      "       [ 0.08172041],\n",
      "       [ 2.1145957 ],\n",
      "       [-0.11558425],\n",
      "       [-0.44467908],\n",
      "       [-0.90518343],\n",
      "       [-0.30172783],\n",
      "       [ 0.54314005]], dtype=float32), array([1286.9109], dtype=float32)]\n",
      "iter=0, cost=1286.910888671875\n",
      "[array([[42.74027 ],\n",
      "       [42.957428],\n",
      "       [23.737972],\n",
      "       [16.397247],\n",
      "       [19.521908],\n",
      "       [33.268154],\n",
      "       [28.118856],\n",
      "       [50.850567],\n",
      "       [17.725779],\n",
      "       [58.724655]], dtype=float32), array([0.12790576], dtype=float32)]\n",
      "iter=50, cost=0.12790575623512268\n",
      "[array([[42.835995],\n",
      "       [42.97896 ],\n",
      "       [23.813679],\n",
      "       [16.240324],\n",
      "       [19.35332 ],\n",
      "       [33.170025],\n",
      "       [28.059565],\n",
      "       [50.898888],\n",
      "       [17.464321],\n",
      "       [58.84046 ]], dtype=float32), array([0.05283729], dtype=float32)]\n",
      "iter=100, cost=0.05283728986978531\n",
      "[array([[42.894466],\n",
      "       [42.986526],\n",
      "       [23.87987 ],\n",
      "       [16.154526],\n",
      "       [19.227621],\n",
      "       [33.109417],\n",
      "       [28.03815 ],\n",
      "       [50.93486 ],\n",
      "       [17.29885 ],\n",
      "       [58.897503]], dtype=float32), array([0.0218927], dtype=float32)]\n",
      "iter=150, cost=0.021892696619033813\n",
      "[array([[42.93207 ],\n",
      "       [42.99133 ],\n",
      "       [23.922672],\n",
      "       [16.099466],\n",
      "       [19.14652 ],\n",
      "       [33.070435],\n",
      "       [28.024559],\n",
      "       [50.95807 ],\n",
      "       [17.192368],\n",
      "       [58.93403 ]], dtype=float32), array([0.00907108], dtype=float32)]\n",
      "iter=200, cost=0.009071075357496738\n",
      "[array([[42.956272],\n",
      "       [42.99442 ],\n",
      "       [23.950222],\n",
      "       [16.064026],\n",
      "       [19.094313],\n",
      "       [33.045338],\n",
      "       [28.015808],\n",
      "       [50.97301 ],\n",
      "       [17.123825],\n",
      "       [58.957535]], dtype=float32), array([0.00375851], dtype=float32)]\n",
      "iter=250, cost=0.0037585063837468624\n",
      "[array([[42.97186 ],\n",
      "       [42.99641 ],\n",
      "       [23.967964],\n",
      "       [16.041216],\n",
      "       [19.060713],\n",
      "       [33.029186],\n",
      "       [28.010178],\n",
      "       [50.98263 ],\n",
      "       [17.079708],\n",
      "       [58.972668]], dtype=float32), array([0.00155734], dtype=float32)]\n",
      "iter=300, cost=0.0015573407290503383\n",
      "[array([[42.98188 ],\n",
      "       [42.997684],\n",
      "       [23.979372],\n",
      "       [16.026525],\n",
      "       [19.039074],\n",
      "       [33.018784],\n",
      "       [28.006548],\n",
      "       [50.988815],\n",
      "       [17.051304],\n",
      "       [58.9824  ]], dtype=float32), array([0.00064523], dtype=float32)]\n",
      "iter=350, cost=0.0006452255183830857\n",
      "[array([[42.98834 ],\n",
      "       [42.998512],\n",
      "       [23.986721],\n",
      "       [16.017075],\n",
      "       [19.025152],\n",
      "       [33.012093],\n",
      "       [28.004213],\n",
      "       [50.9928  ],\n",
      "       [17.033024],\n",
      "       [58.988674]], dtype=float32), array([0.00026734], dtype=float32)]\n",
      "iter=400, cost=0.0002673357375897467\n",
      "[array([[42.99249 ],\n",
      "       [42.99904 ],\n",
      "       [23.991455],\n",
      "       [16.010992],\n",
      "       [19.016191],\n",
      "       [33.007782],\n",
      "       [28.002716],\n",
      "       [50.995365],\n",
      "       [17.021257],\n",
      "       [58.992706]], dtype=float32), array([0.00011078], dtype=float32)]\n",
      "iter=450, cost=0.0001107839634642005\n"
     ]
    }
   ],
   "source": [
    "#参数初始化\n",
    "cpu = fluid.CPUPlace()\n",
    "exe = fluid.Executor(cpu)\n",
    "exe.run(fluid.default_startup_program())\n",
    "##开始训练，迭代500次\n",
    "for i in range(500):\n",
    "    outs = exe.run(\n",
    "             feed={'x':train_data,'y':y_true},\n",
    "             fetch_list=[y_predict.name, avg_cost.name])\n",
    "    if i % 50 == 0:\n",
    "        print(outs)\n",
    "        print('iter={:.0f}, cost={}'.format(i,outs[1][0]))"
   ]
  },
  {
   "cell_type": "code",
   "execution_count": 23,
   "metadata": {},
   "outputs": [
    {
     "data": {
      "text/plain": [
       "['save_infer_model/scale_0']"
      ]
     },
     "execution_count": 23,
     "metadata": {},
     "output_type": "execute_result"
    }
   ],
   "source": [
    "#存储训练结果\n",
    "params_dirname = 'result'\n",
    "fluid.io.save_inference_model(params_dirname, ['x'], [y_predict], exe)"
   ]
  },
  {
   "cell_type": "code",
   "execution_count": 25,
   "metadata": {},
   "outputs": [
    {
     "name": "stdout",
     "output_type": "stream",
     "text": [
      "[array([[99.94476]], dtype=float32)]\n",
      "9a+5b+2c+10d=[99.94476]\n"
     ]
    }
   ],
   "source": [
    "# 开始预测\n",
    "infer_exe = fluid.Executor(cpu)\n",
    "inference_scope = fluid.Scope()\n",
    "# 加载训练好的模型\n",
    "with fluid.scope_guard(inference_scope):\n",
    "    [inference_program, feed_target_names,\n",
    "    fetch_targets] = fluid.io.load_inference_model(params_dirname,infer_exe)\n",
    "    \n",
    "# 生成测试数据\n",
    "test = np.array([[[9],[5],[2],[10]]]).astype('float32')\n",
    "# 进行预测\n",
    "results = infer_exe.run(inference_program, feed={'x':test},\n",
    "                       fetch_list = fetch_targets)\n",
    "# 给出题目为 【9,5,2,10】 输出y=4*9+6*5+7*2+10*2的值\n",
    "print(results)\n",
    "print (\"9a+5b+2c+10d={}\".format(results[0][0]))"
   ]
  },
  {
   "cell_type": "code",
   "execution_count": null,
   "metadata": {},
   "outputs": [],
   "source": []
  }
 ],
 "metadata": {
  "kernelspec": {
   "display_name": "Python 3",
   "language": "python",
   "name": "python3"
  },
  "language_info": {
   "codemirror_mode": {
    "name": "ipython",
    "version": 3
   },
   "file_extension": ".py",
   "mimetype": "text/x-python",
   "name": "python",
   "nbconvert_exporter": "python",
   "pygments_lexer": "ipython3",
   "version": "3.7.3"
  }
 },
 "nbformat": 4,
 "nbformat_minor": 2
}
